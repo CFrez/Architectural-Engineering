{
 "cells": [
  {
   "cell_type": "markdown",
   "metadata": {
    "colab_type": "text",
    "id": "9qaI2kGlS7nG"
   },
   "source": [
    "Plate Girder Design\n",
    "==================="
   ]
  },
  {
   "cell_type": "code",
   "execution_count": 1,
   "metadata": {
    "colab": {
     "base_uri": "https://localhost:8080/",
     "height": 71
    },
    "colab_type": "code",
    "id": "eVdt89cy78-k",
    "outputId": "8bf096ab-d119-4791-ecd3-3fb49ef13857"
   },
   "outputs": [
    {
     "name": "stdout",
     "output_type": "stream",
     "text": [
      "Total Load on each end 149.20000000000002 kips\n",
      "Total Load on beam, 302.40000000000003 kips\n",
      "Reactions at columns 151.20000000000002 kips\n"
     ]
    }
   ],
   "source": [
    "#@title Initial Beam Data {run: \"auto\", display-mode: \"form\" }  \n",
    "#@markdown Total Length (ft)\n",
    "span = 40 #@param {type: \"number\"}\n",
    "#@markdown Unfactored Dead Load (kips)\n",
    "DL = 15 #@param {type: \"number\"}\n",
    "#@markdown Unfactored Live Load (kips)\n",
    "LL = 82 #@param {type: \"number\"}\n",
    "#@markdown Self Weight Guesstimate (lb/ft)\n",
    "swg = 100 #@param {type: \"number\"}\n",
    "#@markdown LRFD Load Factors\n",
    "DLF = 1.2 #@param {type: \"number\"}\n",
    "LLF = 1.6 #@param {type: \"number\"}\n",
    "\n",
    "weight = span*swg/1000\n",
    "\n",
    "factored_load = (DL*DLF)+(LL*LLF)\n",
    "total_load = (factored_load*2)+weight\n",
    "\n",
    "column_reaction = total_load/2\n",
    "\n",
    "print('Total Load on each end', factored_load, 'kips')\n",
    "print('Total Load on beam,', total_load, 'kips')\n",
    "print('Reactions at columns', column_reaction, 'kips')\n",
    "\n"
   ]
  },
  {
   "cell_type": "code",
   "execution_count": 2,
   "metadata": {
    "colab": {},
    "colab_type": "code",
    "id": "i-A8TzTxT154"
   },
   "outputs": [],
   "source": [
    "#@title Steel Data {run: \"auto\", display-mode: \"form\" }  \n",
    "#@markdown Modulus of Elasticity (ksi)\n",
    "E = 29000 #@param {type: \"number\"}\n",
    "#@markdown Utimate Strength (ksi)\n",
    "Fu = 65 #@param {type: \"number\"}\n",
    "#@markdown Yield Strength (ksi)\n",
    "Fy = 50 #@param {type: \"number\"}\n"
   ]
  },
  {
   "cell_type": "markdown",
   "metadata": {
    "colab_type": "text",
    "id": "8tpXHKtza2ad"
   },
   "source": [
    "## Givens\n",
    "------\n",
    "  - Welded Plate Girder\n",
    "- Type of Steel\n",
    "  - Do the flange and web use the same steel?\n",
    "- Are there external supports/bracing (lateral/transverse)?\n",
    "- What are the specific requirements for the problem?\n",
    "  - non-compact web section?\n",
    "  - max height?\n",
    "  - efficiency requirement?"
   ]
  },
  {
   "cell_type": "code",
   "execution_count": 3,
   "metadata": {
    "colab": {},
    "colab_type": "code",
    "id": "4OVtQZM3B3c1"
   },
   "outputs": [],
   "source": [
    "#@title Static Analysis {run: \"auto\", display-mode: \"form\" }  \n",
    "#@markdown Max Shear (kips)\n",
    "Vu_max = 150.4 #@param {type: \"number\"}\n",
    "#@markdown Max Moment (kips)\n",
    "Mu_max = 1798 #@param {type: \"number\"}"
   ]
  },
  {
   "cell_type": "markdown",
   "metadata": {
    "colab_type": "text",
    "id": "03GtuXjd3uae"
   },
   "source": [
    "## 1. Start with best guess for dimensions\n",
    "\n",
    "Determine overall depth\n",
    "  - $d \\approx \\dfrac{span}{12}$\n"
   ]
  },
  {
   "cell_type": "code",
   "execution_count": 4,
   "metadata": {
    "colab": {
     "base_uri": "https://localhost:8080/",
     "height": 35
    },
    "colab_type": "code",
    "id": "WW2DHKKQCoSc",
    "outputId": "d9ca44c7-5821-449a-c397-5353a3fdc413"
   },
   "outputs": [
    {
     "name": "stdout",
     "output_type": "stream",
     "text": [
      "3.3333333333333335 ft\n"
     ]
    }
   ],
   "source": [
    "d1 = span/12\n",
    "print(d1,'ft')\n",
    "\n"
   ]
  },
  {
   "cell_type": "code",
   "execution_count": 5,
   "metadata": {
    "colab": {
     "base_uri": "https://localhost:8080/",
     "height": 35
    },
    "colab_type": "code",
    "id": "9x5HtKqTELzn",
    "outputId": "57609849-ed9f-4017-be4c-a270f19a1c24"
   },
   "outputs": [
    {
     "name": "stdout",
     "output_type": "stream",
     "text": [
      "Girder Depth 32 in\n"
     ]
    }
   ],
   "source": [
    "#@title Adjust depth and convert to inches (manual) {run: \"auto\", display-mode: \"form\" }  \n",
    "d = 32 #@param {type: \"number\"}\n",
    "\n",
    "print('Girder Depth', d, 'in')"
   ]
  },
  {
   "cell_type": "markdown",
   "metadata": {
    "colab_type": "text",
    "id": "bnZT4GA6FDMC"
   },
   "source": [
    "Pick plate thickness to start\n",
    "  - $t_f = 1\" \\;\\; \\scriptsize\\text{ (not required to be 1)}$"
   ]
  },
  {
   "cell_type": "code",
   "execution_count": 6,
   "metadata": {
    "cellView": "both",
    "colab": {},
    "colab_type": "code",
    "id": "S_Itw573FI_K"
   },
   "outputs": [],
   "source": [
    "#@ {run: \"auto\", display-mode: \"form\" }  \n",
    "\n",
    "tf = 1 #@param {type: \"number\"}"
   ]
  },
  {
   "cell_type": "markdown",
   "metadata": {
    "colab_type": "text",
    "id": "63sqiR3yFdLN"
   },
   "source": [
    "Calculate web height\n",
    "  - $h = d-2t_f$"
   ]
  },
  {
   "cell_type": "code",
   "execution_count": 7,
   "metadata": {
    "cellView": "both",
    "colab": {
     "base_uri": "https://localhost:8080/",
     "height": 35
    },
    "colab_type": "code",
    "id": "e8_vKN2rFlfB",
    "outputId": "f95526dc-ee7c-43ee-e1de-31a8a26928e2"
   },
   "outputs": [
    {
     "name": "stdout",
     "output_type": "stream",
     "text": [
      "Girder height 30 in\n"
     ]
    }
   ],
   "source": [
    "h=d-(2*tf)\n",
    "print('Girder height', h, 'in')"
   ]
  },
  {
   "cell_type": "markdown",
   "metadata": {
    "colab_type": "text",
    "id": "_5hmy_fEU1Wz"
   },
   "source": [
    "Calculate.... plastification? \n",
    "  - $\\lambda_{rw} = 5.70 \\sqrt{\\dfrac{E}{F_y}} \\;\\; \\scriptsize\\text{ (case 15)}$ __________________\n",
    "  - $\\lambda_{pw} = 3.76 \\sqrt{\\dfrac{E}{F_y}} \\;\\; \\scriptsize\\text{ (case 15)}$ __________________\n"
   ]
  },
  {
   "cell_type": "code",
   "execution_count": 8,
   "metadata": {
    "colab": {
     "base_uri": "https://localhost:8080/",
     "height": 53
    },
    "colab_type": "code",
    "id": "eFz5T1IMU8vQ",
    "outputId": "92c20e21-ceed-48ca-b62d-0ae4adacca1f"
   },
   "outputs": [
    {
     "name": "stdout",
     "output_type": "stream",
     "text": [
      "lambda rw 137.27417819823216\n",
      "lambda pw 90.55279123251806\n"
     ]
    }
   ],
   "source": [
    "import math \n",
    "efy = E/Fy\n",
    "lambda_rw = 5.70*math.sqrt(efy)\n",
    "lambda_pw = 3.76*math.sqrt(efy)\n",
    "\n",
    "print('lambda rw', lambda_rw)\n",
    "print('lambda pw', lambda_pw)"
   ]
  },
  {
   "cell_type": "markdown",
   "metadata": {
    "colab_type": "text",
    "id": "pJhwb-RyGEHL"
   },
   "source": [
    "Determine minimum thickness to be efficient\n",
    "  - $t_{w.min} = \\dfrac{h_w}{\\lambda_{rw}}$\n"
   ]
  },
  {
   "cell_type": "markdown",
   "metadata": {
    "colab_type": "text",
    "id": "qAlK3kGgU0nl"
   },
   "source": []
  },
  {
   "cell_type": "code",
   "execution_count": 9,
   "metadata": {
    "colab": {
     "base_uri": "https://localhost:8080/",
     "height": 35
    },
    "colab_type": "code",
    "id": "TOJethZvFdxP",
    "outputId": "453951e5-7b83-4d1b-cbc8-486f6eeea3ff"
   },
   "outputs": [
    {
     "name": "stdout",
     "output_type": "stream",
     "text": [
      "Minimum web thickness is 0.219 in\n"
     ]
    }
   ],
   "source": [
    "twmin = h/lambda_rw\n",
    "print('Minimum web thickness is %.3f %s' % (twmin,'in'))\n"
   ]
  },
  {
   "cell_type": "markdown",
   "metadata": {
    "colab_type": "text",
    "id": "Vee0443vnbts"
   },
   "source": []
  },
  {
   "cell_type": "code",
   "execution_count": 10,
   "metadata": {
    "colab": {},
    "colab_type": "code",
    "id": "gHPRZ1Wgnb-2"
   },
   "outputs": [],
   "source": [
    "#@title Round up to a multiple of 1/16\" {run: \"auto\", display-mode: \"form\" }  \n",
    "\n",
    "tw = .3125 #@param {type: \"number\"}"
   ]
  },
  {
   "cell_type": "markdown",
   "metadata": {
    "colab_type": "text",
    "id": "TXrrsuDXn7hZ"
   },
   "source": [
    "f. Calculate necessary plate ratios per use case (Table B4.1b)\n",
    "  - $\\lambda_w = \\dfrac{h}{t_w}$\n",
    "  "
   ]
  },
  {
   "cell_type": "code",
   "execution_count": 11,
   "metadata": {
    "colab": {
     "base_uri": "https://localhost:8080/",
     "height": 35
    },
    "colab_type": "code",
    "id": "oiFvDMyUn9F7",
    "outputId": "0b7002c7-3fca-4005-a08a-d28b635fbbf0"
   },
   "outputs": [
    {
     "name": "stdout",
     "output_type": "stream",
     "text": [
      "Web slenderness is 0.219\n"
     ]
    }
   ],
   "source": [
    "lambda_w = h/tw\n",
    "print('Web slenderness is %.3f' % twmin)"
   ]
  },
  {
   "cell_type": "markdown",
   "metadata": {
    "colab_type": "text",
    "id": "hW3zU8vHoBOF"
   },
   "source": [
    "g. Verify non-slender web (if required)\n",
    "  - $\\lambda_p \\leq \\lambda_w \\leq \\lambda_r$\n",
    "\n",
    "  {{lambda_r}}"
   ]
  },
  {
   "cell_type": "code",
   "execution_count": 12,
   "metadata": {
    "colab": {
     "base_uri": "https://localhost:8080/",
     "height": 35
    },
    "colab_type": "code",
    "id": "ucHnDDX4oB9G",
    "outputId": "49a3f0b7-6bd5-432d-df15-6302e237f88b"
   },
   "outputs": [
    {
     "data": {
      "text/markdown": "$f_r = 2$ GHz",
      "text/plain": "<IPython.core.display.Markdown object>"
     },
     "execution_count": 12,
     "metadata": {},
     "output_type": "execute_result"
    }
   ],
   "source": [
    "from IPython.display import Markdown as md\n",
    "\n",
    "fr=2 #GHz\n",
    "\n",
    "md(\"$f_r = %i$ GHz\"%(fr))"
   ]
  },
  {
   "cell_type": "markdown",
   "metadata": {
    "colab_type": "text",
    "id": "tPJJzGL6yOOe"
   },
   "source": [
    "from IPython.display import Markdown as md\n",
    "\n",
    "$f_r = 2$\n",
    "\n",
    "fr=2 #GHz\n",
    "\n",
    "md(\"$f_r = %i$ GHz\"%(fr))"
   ]
  },
  {
   "cell_type": "markdown",
   "metadata": {
    "colab_type": "text",
    "id": "yqkTVrH3oGzd"
   },
   "source": [
    "h. Determine preliminary flange size using actual $M_{max}$ (from statics analysis)\n",
    "  - $A_f = \\dfrac{M_u}{F_y(h+t_f)} \\;\\; \\scriptsize\\text{ Area of flange}$   \n",
    "  - Divide by $t_f$"
   ]
  },
  {
   "cell_type": "code",
   "execution_count": 13,
   "metadata": {
    "colab": {},
    "colab_type": "code",
    "id": "LNzTWyRUoHX6"
   },
   "outputs": [],
   "source": [
    "bf=14"
   ]
  },
  {
   "cell_type": "markdown",
   "metadata": {
    "colab_type": "text",
    "id": "0d2hQwOloMhA"
   },
   "source": []
  },
  {
   "cell_type": "code",
   "execution_count": 14,
   "metadata": {
    "colab": {},
    "colab_type": "code",
    "id": "NrTwZvjxoNI9"
   },
   "outputs": [],
   "source": [
    "#@title Round up to a multiple of 1/16\" {run: \"auto\", display-mode: \"form\" }  \n",
    "\n",
    "bf = 1 #@param {type: \"number\"}"
   ]
  },
  {
   "cell_type": "markdown",
   "metadata": {
    "colab_type": "text",
    "id": "IR-0ba-2oTF7"
   },
   "source": [
    "i. Think through if ratio, flange width to depth, makes sense"
   ]
  },
  {
   "cell_type": "markdown",
   "metadata": {
    "colab_type": "text",
    "id": "Bl2APC4coUpc"
   },
   "source": [
    "j. Check flange slenderness (Table B4.1b)\n",
    "  - $\\lambda_f = \\dfrac{b_f}{2t_f} \\leq \\lambda_p = 0.38 \\sqrt{\\dfrac{E}{F_y}} \\;\\; \\scriptsize\\text{ (case 11)}$ "
   ]
  },
  {
   "cell_type": "code",
   "execution_count": 15,
   "metadata": {
    "colab": {},
    "colab_type": "code",
    "id": "WBOSvsNco5iA"
   },
   "outputs": [],
   "source": [
    "lambda_f = bf/(2*tf)\n"
   ]
  },
  {
   "cell_type": "markdown",
   "metadata": {
    "colab_type": "text",
    "id": "ltPl4zwAa2lw"
   },
   "source": [
    "***Re-proportion if necessary***\n",
    "\n",
    "Adjust total depth and/or plate thickness\n",
    "\n",
    "Recalculate $A_f$ then calculate for width\n",
    "  - $b_f = \\dfrac{A_f}{t_f} \\;\\; \\text{ round up}$ __________________\n",
    "\n",
    "Re-check web slenderness ($\\lambda_w$)\n",
    "  - $\\lambda_p \\leq \\dfrac{h}{t_w} \\leq \\lambda_r$ __________________\n",
    "  \n",
    "Re-check flange slenderness (Table B4.1b)\n",
    "  - $\\lambda_f \\leq \\lambda_p \\;\\; \\scriptsize\\text{ (case 11)}$ __________________\n",
    "\n",
    "---"
   ]
  },
  {
   "cell_type": "code",
   "execution_count": 16,
   "metadata": {
    "colab": {},
    "colab_type": "code",
    "id": "8fdA_rV2GEU2"
   },
   "outputs": [],
   "source": [
    "#@ {run: \"auto\", display-mode: \"form\" }  \n",
    "\n",
    "tf = 1 #@param {type: \"number\"}"
   ]
  },
  {
   "cell_type": "markdown",
   "metadata": {
    "colab_type": "text",
    "id": "aEA-cb9JpQRs"
   },
   "source": [
    "## Evaluate Trial Section\n",
    "\n",
    "\"Collect\" all variables thus far\n",
    "  - $d \\;\\scriptsize\\text{(total depth, } in.)$\n",
    "  - $t_w \\;\\scriptsize\\text{(web thickness, } in.)$\n",
    "  - $h \\;\\scriptsize\\text{(web height, } in.)$\n",
    "  - $t_f \\;\\scriptsize\\text{(flange thickness, } in.)$\n",
    "  - $b_f \\;\\scriptsize\\text{(flange width, } in.)$"
   ]
  },
  {
   "cell_type": "code",
   "execution_count": 17,
   "metadata": {
    "colab": {
     "base_uri": "https://localhost:8080/",
     "height": 107
    },
    "colab_type": "code",
    "id": "gw_SS7tVpUyR",
    "outputId": "bbf860ab-cdb5-4560-da39-3643a4d530c8"
   },
   "outputs": [
    {
     "name": "stdout",
     "output_type": "stream",
     "text": [
      "d = 32\n",
      "tw = 0.3125\n",
      "h = 30\n",
      "tf = 1\n",
      "bf = 1\n"
     ]
    }
   ],
   "source": [
    "print('d =',d)\n",
    "print('tw =', tw)\n",
    "print('h =', h)\n",
    "print('tf =', tf)\n",
    "print('bf =', bf)"
   ]
  },
  {
   "cell_type": "markdown",
   "metadata": {
    "colab_type": "text",
    "id": "Hz3jAYjPa2v7"
   },
   "source": [
    "\n",
    "Get other numbers from AutoCad (or different source)\n",
    "  - $A \\;\\scriptsize\\text{(cross-sectional area, } in.^2)$ __________________ \n",
    "  - $I_{xx} \\;\\scriptsize\\text{(moment of inertia about the x-axis, } in.^4)$ __________________ \n",
    "  - $r_x \\;\\scriptsize\\text{(radius of gyration about the x-axis, } in.)$ __________________ \n",
    "  - $S_{xx} \\;\\scriptsize\\text{(section modulus about the x-axis, } in.^3)$ __________________ \n",
    "    - $S_{xx}=I_{xx}/(d/2)$\n",
    "\n",
    "---"
   ]
  },
  {
   "cell_type": "code",
   "execution_count": 18,
   "metadata": {
    "colab": {
     "base_uri": "https://localhost:8080/",
     "height": 35
    },
    "colab_type": "code",
    "id": "BFE2ktLgqDM7",
    "outputId": "aee59d58-d2bf-4c3e-d783-12e42bfa3fa7"
   },
   "outputs": [
    {
     "name": "stdout",
     "output_type": "stream",
     "text": [
      "Sxx =  494.5703125\n"
     ]
    }
   ],
   "source": [
    "#@title Girder Details from AutoCad {run: \"auto\", display-mode: \"form\" }  \n",
    "#@markdown Area (in2)\n",
    "A = 39.375 #@param {type: \"number\"}\n",
    "#@markdown Moment of Inertia (in4)\n",
    "Ixx = 7913.125 #@param {type: \"number\"}\n",
    "#@markdown Radius of Gyration (in)\n",
    "rx = 14.176 #@param {type: \"number\"}\n",
    "#@markdown Section Modulus (in3) - Calculated\n",
    "Sxx=Ixx/(d/2)\n",
    "print('Sxx = ', Sxx)"
   ]
  },
  {
   "cell_type": "markdown",
   "metadata": {
    "colab_type": "text",
    "id": "4Qs1BkTNa24v"
   },
   "source": [
    "## 2. Check Flexural Strength of the Girder\n",
    "\n",
    "$\\phi = 0.90$\n",
    "\n",
    "**Lowest will govern**\n",
    "    \n",
    "$\\Box$ Yield <br>\n",
    "$\\Box$ Lateral Torsional Buckling <br>\n",
    "$\\Box$ Flange Local Buckling\n",
    "\n",
    "### **A. Calculate Web Plastification Factor, $R_{pc}$**\n",
    "\n",
    "1. Calculate necessary variables\n",
    "   \n",
    "   - a. Use AutoCAD to find the centroid of the top half ($y_1, in.$) if doubly symmetric then $y_1=y_2$ <br><br> __________________ \n",
    "\n",
    "   - b. $Z_{xx} \\;\\scriptsize\\text{(plastic section modulus about the x-axis, } in.^3)$ __________________ \n",
    "        - $Z_{xx} = \\dfrac{A}{2}(y_1+y_2)$\n",
    "   - c. $M_p \\;\\scriptsize\\text{(plastic bending moment, } in.^k)$ __________________ \n",
    "       - $M_p = Z_{xx}F_y$\n",
    "\n",
    "   - d. $M_{yc} \\;\\scriptsize\\text{(flexural yield moment for compression, } in.^k)$ __________________ \n",
    "       - $M_{yc} = S_{xx}F_y$\n",
    "\n",
    "2. $R_{pc} = \\left[\\dfrac{M_p}{M_{yc}} -\\left(\\dfrac{M_p}{M_{yc}}-1\\right)\\left(\\dfrac{\\lambda_w-\\lambda_{pw}}{\\lambda_{rw}-\\lambda_{pw}}\\right)\\right] \\leq \\dfrac{M_p}{M_{yc}}$\n",
    "  <br><br> __________________ $\\leq$ __________________ <br>$\\scriptsize\\text{(lower half governs)}$\n",
    "\n",
    "### **B. For Flexural Yield**\n",
    "1. $\\phi M_n = \\phi R_{pc}F_yS_x\n",
    "    \\;\\; \\text{\\scriptsize (check units of result)}$ __________________ \n",
    "\n",
    "2. $\\phi M_n \\geq M_{max}$ __________________ \n",
    "\n",
    "### **C. For Lateral-Torsional Buckling**\n",
    "\n",
    "1. $r_t \\; \\scriptsize\\text{(effective radius of gyration for LTB; verify shape to determine equation, } in.)$\n",
    "    - a. $h_o \\;\\scriptsize\\text{(distance between flange centroids, } in.)$ __________________ \n",
    "  \n",
    "    - b. $a_w = h_ot_w/b_{fc}t_{fc}$ __________________ \n",
    "  \n",
    "    - c. $r_t = \\dfrac{b_{fc}}{\\sqrt{12(1+\\frac{1}{6}aw)}}\n",
    "       \\;\\; \\scriptsize\\text{ [F4-11]}$ __________________ \n",
    "2. $L_p \\;\\scriptsize\\text{(laterally unbraced length for limit state of yielding, } in.)$ __________________ \n",
    "    - a. $L_p = 1.1r_t\\sqrt{\\dfrac{E}{F_y}}$\n",
    "3. $L_b \\;\\scriptsize\\text{(distance for each span between brace points, } in.)$\n",
    "    - a. end-span __________________ \n",
    "    - b. midspan __________________ \n",
    "    - c. any others? __________________ \n",
    "\n",
    "4. Smaller of $L_b$ or $L_p$ is limit state\n",
    "    - a. $J \\;\\scriptsize\\text{(torsional constant, } in.^4)$ __________________ \n",
    "      - $J = \\sum \\dfrac{1}{3}bt^3\n",
    "         \\;\\; \\scriptsize\\text{ sum of each plate: flange + web + flange}$\n",
    "    - b. $L_r \\;\\scriptsize\\text{(unbraced length for the limit state of inelastic LTB, }in)$ __________________ \n",
    "      - $L_r = 1.95 r_t \\dfrac{E}{F_L}\n",
    "       \\sqrt{\\dfrac{J}{S_{xc}h_o}+\\sqrt{\n",
    "         \\dfrac{J}{S_{xc}h_o}^2+6.76 \\left(\\dfrac{F_L}{E}\\right)^2}}\n",
    "       \\;\\; \\scriptsize\\text{ [F4-8]}$\n",
    "    - c. Check $\\Rightarrow L_p \\leq L_b \\leq L_r$ __________________ $\\;\\;$ _________________ \n",
    "\n",
    "    - d. $C_b \\;\\scriptsize\\text{(LTB modification factor)}$\n",
    "      1. $M_{max} \\;\\scriptsize\\text{(max Moment, } in.^k)$ __________________ $\\;\\;$ _________________ \n",
    "   \n",
    "      2. Absolute Moment value of segment\n",
    "           - $M_A \\;\\scriptsize\\text{(quarter point)}$ __________________ $\\;\\;$ _________________ \n",
    "           - $M_B \\;\\scriptsize\\text{(centerline)}$ __________________ $\\;\\;$ _________________ \n",
    "           - $M_C \\;\\scriptsize\\text{(third-quarter point)}$ __________________ $\\;\\;$ _________________ \n",
    "  \n",
    "      3. $C_b = \\dfrac{12.5 M_{max}} {2.5M_{max} + 3M_A + 4M_B + 3M_C} \\;\\; \\scriptsize\\text{ [F1-1]}$  \n",
    "           - If $C_b \\leq 1.0 \\Rightarrow C_b=1.0$\n",
    "      <br><br>\n",
    "      __________________ $\\;\\;$ _________________ \n",
    "\n",
    "5. Calculate LTB maximum allowable moment ($\\phi M_u$)\n",
    "  and yield upper limit ($\\phi R_{pc} M_{yc}$) for all span sections\n",
    "    - a. $\\scriptsize\\text{ [F4-2]}\\; \\; \\normalsize \\phi M_n = \\phi C_b \\left\n",
    "  [R_{pc} M_{yc}- (R_{pc} M_{yc}-F_L S_{xc})\n",
    "  \\left(\\dfrac{L_b-L_p}{L_r-L_p}\\right)\\right]$ <br><br>__________________ $\\;\\;$ _________________ \n",
    "  <br>\n",
    "   $\\leq$<br>\n",
    "   $\\phi R_{pc} M_{yc}$\n",
    "   <br><br>__________________ $\\;\\;$ _________________ \n",
    "\n",
    "    - b. Lower number governs\n",
    "      __________________ $\\;\\;$ _________________ \n",
    "    - c. Check $\\Rightarrow$ for all spans $\\phi M_n > M_{max}$\n",
    "      __________________ $\\;\\;$ _________________ \n",
    "\n",
    "### **D. For Compression Flange Local Buckling**\n",
    "\n",
    "- Since $\\lambda_f \\leq \\lambda_{pf}$, flange is compact. Flange Local Buckling does not apply. $\\scriptsize\\text{ [F4-3]}$\n",
    "\n",
    "### **E. For Tension Flange Yielding**\n",
    "\n",
    "- Since doubly symmetric, this does not apply. (Compression or LTB will govern)\n",
    "\n",
    ">## ___*Summary for Flexure*___\n",
    ">@ ______________ span: $\\phi M_n$ ______________ $ft^k > M_u$ ______________ $ft^k\\;\\;\\text{  }$ ___________\n",
    ">@ ______________ span: $\\phi M_n$ ______________ $ft^k > M_u$ ______________ $ft^k\\;\\;\\text{  }$ ___________\n",
    ">@ ______________ span: $\\phi M_n$ ______________ $ft^k > M_u$ ______________ $ft^k\\;\\;\\text{  }$ ___________\n",
    "---"
   ]
  },
  {
   "cell_type": "markdown",
   "metadata": {
    "colab_type": "text",
    "id": "EJqvgJowa3Aa"
   },
   "source": [
    "##3. Check Shear Strength of the Girder\n",
    "\n",
    "$\\phi = 0.90$\n",
    "\n",
    "### **A. Determine Stiffener Spacing $\\scriptsize\\text{ [AISC G2.2]}$**\n",
    "\n",
    "- $K_v=5.34 \\mid a/h \\lt 3.0$\n",
    "- Max Spacing then...\n",
    "  - $a \\;\\scriptsize\\text{(clear distance between transverse stiffeners)}$\n",
    "  - $a \\leq (3.0)h$  __________________ \n",
    "\n",
    "### **B. Stiffener Spacing**\n",
    "1. Create distance from end of span __________________ \n",
    "    - start with 1-3'?\n",
    "2. Review remaining spans and evaluate shear __________________ \n",
    "    - try to divide high shear areas evenly to remain under max spacing\n",
    "    - any low shear areas can have larger span, but will require $K_v$ adjusted\n",
    "3. Calculate $k_v$ for each indivdual span $a$ will change for each span <br><br> \n",
    "   _______________________________________________________________ <br><br><br>\n",
    "    - $k_v \\;\\scriptsize\\text{(web plate shear buckling coefficient)}$\n",
    "      - $k_v=5.34$\n",
    "        - without transverse stiffiners\n",
    "        - $a/h > 3.0$\n",
    "      - $k_v=5+\\dfrac{5}{(a/h)^2} \\;\\; \\scriptsize\\text{ [G2-5]}$\n",
    "      <br><br> ________________ $\\;\\;$ ________________ $\\;\\;$ ________________ \n",
    "\n",
    "### **C. Determine if Tension Field Action will increase the shear strength**\n",
    "(sometimes proportions will make TFA not worth it. TFA not allowed for end span or if spacing is greater than the max allowable)\n",
    "1. $C_{v2} \\;\\scriptsize\\text{(web shear buckling coefficient)}$  __________________ $\\;\\;$ _________________ \n",
    "    - $h/t_w \\leq 1.10\\sqrt{k_vE/F_y}$\n",
    "      - TFA will not provide additional shear strength\n",
    "      - $C_{v2}=1.0\n",
    "        \\;\\; \\scriptsize\\text{ [G2-9]}$\n",
    "  \n",
    "    - $1.10\\sqrt{k_vE/F_y} < h/t_w \\leq 1.37\\sqrt{k_vE/F_y}$\n",
    "      - $C_{v2}= \\dfrac{1.10\\sqrt{k_vE/F_y}}{h/t_w}\n",
    "        \\;\\; \\scriptsize\\text{ [G2-10]}$\n",
    "\n",
    "    - $h/t_w>1.37\\sqrt{k_vE/F_y}$\n",
    "      - $C_{v2}=\\dfrac{1.51k_vE}{(h/t_w)^2F_y}\n",
    "        \\;\\; \\scriptsize\\text{ [G2-11]}$\n",
    "\n",
    "2. Web Slenderness ($\\lambda_w$) will determine how \n",
    "  nominal shear strength ($V_n$) is calculated.\n",
    "    - a. Calculate Shear Capacity   __________________ $\\;\\;$ _________________ \n",
    "      - $h/t_w \\leq 1.10\\sqrt{k_vE/F_y}$\n",
    "        - $\\phi V_n= \\phi 0.6 F_y A_w\n",
    "          \\;\\; \\scriptsize\\text{ [G2-6]}$\n",
    "\n",
    "      - If all four requirements are met:\n",
    "        - $h/t_w > 1.10\\sqrt{k_vE/F_y}$\n",
    "        - $2A_w/(A_{fc}+A_{ft})\\leq2.5$\n",
    "        - $h/b_{fc}\\leq6.0$\n",
    "        - $h/b_{ft}\\leq6.0$\n",
    "          - $\\phi V_n=\\phi 0.6F_yA_w\\left[C_{v2}+\\dfrac{1-C_{v2}}{1.15\\sqrt{1+(a/h)^2}}\\right]\n",
    "          \\;\\; \\scriptsize\\text{ [G2-7]}$\n",
    "\n",
    "      - Otherwise\n",
    "        - $\\phi V_n=\\phi 0.6F_yA_w\\left[C_{v2}+\\dfrac{1-C_{v2}}{1.15[a/h+\\sqrt{1+(a/h)^2}]}\\right]\n",
    "        \\;\\; \\scriptsize\\text{ [G2-8]}$  \n",
    "     \n",
    "     - b. Check $\\Rightarrow \\phi V_n > V_u$ <br><br>\n",
    "       __________________ $>$ _________________ \n",
    "\n",
    "### **D. Calculate Shear Capacity for all non-TFA spans**\n",
    "1. $C_{v1} \\;\\scriptsize\\text{(web shear strength coefficient)}$ __________________ $\\;\\;$ _________________ \n",
    "    - ensure $k_v$ takes $a$ of span into calculation\n",
    "    - $h/t_w \\leq 1.10\\sqrt{k_vE/F_y}$\n",
    "      - $C_{v1}=1.0 \n",
    "        \\;\\; \\scriptsize\\text{ [G2-3]}$\n",
    "\n",
    "    - $h/t_w > 1.10\\sqrt{k_vE/F_y}$\n",
    "      - $C_{v1}= \\dfrac{1.10\\sqrt{k_vE/F_y}}{h/t_w}\n",
    "        \\;\\; \\scriptsize\\text{ [G2-4]}$\n",
    "\n",
    "2. $\\phi V_n = \\phi 0.6 F_y A_w C_{v1}\n",
    "    \\;\\; \\scriptsize\\text{ [G2-1]}$ __________________ $\\;\\;$ _________________ \n",
    "\n",
    "3. Check $\\Rightarrow \\phi V_n > V_u$ __________________ $\\;\\;$ _________________ \n",
    "\n",
    "  >## ___*Summary for Shear*___\n",
    "  > @ ______________ span: $\\phi V_n$ ______________ $ft^k > V_u$ ______________ $ft^k\\;\\;\\text{  }$ ___________<br>\n",
    "  > @ ______________ span: $\\phi V_n$ ______________ $ft^k > V_u$ ______________ $ft^k\\;\\;\\text{  }$ ___________<br>\n",
    "  > @ ______________ span: $\\phi V_n$ ______________ $ft^k > V_u$ ______________ $ft^k\\;\\;\\text{  }$ ___________<br>\n",
    "---"
   ]
  },
  {
   "cell_type": "markdown",
   "metadata": {
    "colab_type": "text",
    "id": "du8-9Z4pa3Ge"
   },
   "source": [
    "## 4. Bearing Stiffeners Analysis\n",
    "\n",
    "$\\phi = 1.0$\n",
    "\n",
    "1. Minimum bearing width (if not provided)\n",
    "    - a. $\\phi R_n=R_u=\\phi F_{yw}t_w(2.5k+l_b)$ __________________\n",
    "      1. $k=t_w+ \\;\\scriptsize\\text{weld size (if unknown pick one and adjust later)}$ __________________\n",
    "  \n",
    "    - b. $l_b=\\dfrac{\\phi R_u}{F_{yw}t_w}-2.5k$ __________________\n",
    "    - c. with knowledge of $l_b$ choose starting bearing length __________________\n",
    "\n",
    "2. Determine if bearing stiffeners are required\n",
    "<br>$\\large\\color{red}\\text{I think I have this backwards.... need to think 2.5 vs 5}$\n",
    "\n",
    "    - a. $\\phi R_n=\\phi F_{yw}t_w(2.5k+l_b)\n",
    "       \\;\\; \\scriptsize\\text{ [J10-3]}$ __________________\n",
    "\n",
    "    - b. Check $\\Rightarrow \\phi R_n > R_u$ <br><br>\n",
    "   __________________ $>$ _________________ $\\scriptsize\\text{ (if not true, bearing stiffeners are required.)}$\n",
    "\n",
    "1. Transverse Stiffener Requirements $\\scriptsize\\text{ (J10.8)}$\n",
    "     - a. Check:\n",
    "       - width of stiffener + $1/2t_w \\geq 1/3b_f$  __________________\n",
    "       - stiffener thickness $\\geq 1/2t_f$ __________________\n",
    "       - extend at least $1/2$ depth of member __________________\n",
    "  \n",
    "     - b. Choose plate size to start with __________________\n",
    "       - ex: 5/8\" x 6\" each side of member\n",
    "     - c. Strip of a girder web adds to bearing section __________________\n",
    "       - $25t_w$ at interior stiffeners\n",
    "       - $12t_w$ at the end of members\n",
    "\n",
    "2. Compressive Strength of Bearing Section\n",
    "   \n",
    "     - a. $A_g \\;\\scriptsize\\text{(cross sectional area, }in^2)$ __________________\n",
    "       - $A_g = \\sum (l_{st}t_{st}) \\;\\scriptsize\\text{(each stiffener piece and strip of web)}$\n",
    "  \n",
    "     - b. $I \\;\\scriptsize\\text{(moment of inertia, }in^4)$ __________________\n",
    "       - Using parallel axis theorem\n",
    "         - $I_x = \\sum I_{xc} + \\sum Ad_y^2$\n",
    "  \n",
    "     - c. $r \\;\\scriptsize\\text{(radius of gyration, }in)$ __________________\n",
    "       - $r=\\sqrt{I/A_g}$\n",
    "  \n",
    "     - d. $L_c=KL=0.75h \\;\\scriptsize\\text{(effective length, }in)$ __________________\n",
    "  \n",
    "       - $\\phi = 0.9$\n",
    "       - $\\phi P_n = \\phi F_y A_g$ __________________\n",
    "\n",
    "3. Determine welds needed for connection to girder\n",
    "  <br> $\\scriptsize\\text{(using \"Shear Flow\" Methodology from Salmon/Johnson Book since no AISC provision)}$   \n",
    "\n",
    "     - a. $r_{uv} \\;\\scriptsize\\text{(capacity needed per weld, }k/in)$ __________________\n",
    "       - $r_{uv} = \\dfrac{R_u}{h(\\text{no. of welds})}$\n",
    "  \n",
    "     - b. Reference Table J2.4 for minimum weld size __________________\n",
    "  \n",
    "     - c. Find actual $\\phi r_n$ from table __________________\n",
    "  \n",
    "    - d. Check $\\Rightarrow \\phi r_n > r_u$ <br><br> __________________  $>$ __________________\n",
    "      - can use intermittent welds\n",
    "  \n",
    "4. Check bearing criteria\n",
    "<br> $\\phi =0.75$\n",
    "\n",
    "     - a. $A_{pb} \\;\\scriptsize\\text{(projected area in bearing, }in^2)$ __________________\n",
    "       - $A_{pb}= \\sum t_{st}(l_{st}-0.75\") \\\\\\scriptsize\\text{(0.75\" approx cutout dimension)}$ \n",
    "  \n",
    "     - b. $\\phi R_n = 1.8 F_y A_{pb}\n",
    "        \\;\\; \\scriptsize\\text{ [J7-1]}$ __________________\n",
    "     - c. Check $\\Rightarrow \\phi R_n > R_u$ <br><br>\n",
    "      __________________ $>$ __________________\n",
    "\n",
    "1. Check need for stiffeners beneath concentrated loads\n",
    "  <br> $\\scriptsize\\text{Note: If connections made into Web of Girder, these checks would not be necessary.}$\n",
    "\n",
    "     - $l_b \\;\\scriptsize\\text{(bearing length from guesstimate, } in.)$ __________________\n",
    "\n",
    "     - a. Flange Local Buckling $\\;\\scriptsize\\text{[AISC J10.1]}$\n",
    "        - Assume a compressive force on top of girder\n",
    "          - $\\therefore$ F.L.B. does not apply\n",
    "\n",
    "     - b. Web Sidesway Buckling $\\;\\scriptsize\\text{[AISC J10.4]}$\n",
    "        - Girder is laterally braced at concentrated loads\n",
    "          - $\\therefore$ W.S.B. does not apply\n",
    "\n",
    "     - c. Web Local Yielding $\\;\\scriptsize\\text{[AISC J10.2]}$ <br> $\\phi =1.0$\n",
    "  \n",
    "        1. $\\phi R_n=\\phi F_{yw}t_w(5k+l_b) \\; \\; \\large\\color{red}\\text{this might be 2.5....}\n",
    "        \\;\\; \\scriptsize\\text{ [J10-2]}$ __________________\n",
    "\n",
    "        1. Check $\\Rightarrow \\phi R_n > R_u$ <br><br> __________________ $>$ __________________\n",
    "    - d. Web Local Crippling $\\;\\scriptsize\\text{[AISC J10.3]}$ <br> $\\phi =0.75$\n",
    "      1. Concentrated force to be resisted  __________________\n",
    "         - distance from member end $\\geq d/2$\n",
    "           - $\\phi R_n=\\phi 0.8 t_w^2 \\left[1+3\\left(\\dfrac{l_b}{d}\\right)\\left(\\dfrac{t_w}{t_f}\\right)^{1.5} \\right] \\sqrt{\\dfrac{EF_{yw}t_f}{t_w}}\n",
    "          \\;\\; \\scriptsize\\text{ [J10-4]}$\n",
    "      \n",
    "         - distance from member end $< d/2$\n",
    "           - $l_b/d \\leq 0.2$\n",
    "             - $\\phi R_n=\\phi 0.4 t_w^2 \\left[1+3\\left(\\dfrac{l_b}{d}\\right)\\left(\\dfrac{t_w}{t_f}\\right)^{1.5} \\right] \\sqrt{\\dfrac{EF_{yw}t_f}{t_w}}\n",
    "              \\;\\; \\scriptsize\\text{ [J10-4]}$\n",
    "\n",
    "           - $l_b/d > 0.2$\n",
    "              - $\\phi R_n=\\phi 0.4 t_w^2 \\left[1+\\left(\\dfrac{4l_b}{d}-0.2\\right)\\left(\\dfrac{t_w}{t_f}\\right)^{1.5} \\right] \\sqrt{\\dfrac{EF_{yw}t_f}{t_w}}\n",
    "            \\;\\; \\scriptsize\\text{ [J10-4]}$\n",
    "\n",
    "      2. Check $\\Rightarrow \\phi R_n > R_u$ <br><br>\n",
    "         __________________ $>$ __________________\n",
    "- If all Checks (a-d) pass $\\Rightarrow$ Stiffeners not required beneath concentrated forces\n",
    "---"
   ]
  },
  {
   "cell_type": "markdown",
   "metadata": {
    "colab_type": "text",
    "id": "5WasCzoha3MG"
   },
   "source": [
    "## 5. Determine Stiffeners for Tension Field Action Spans\n",
    "\n",
    "$\\;\\scriptsize\\text{[AISC G2.3]}$\n",
    "\n",
    "$\\large\\color{red}\\text{notes pages 42- wrong page G3.3 not G2.3}$\n",
    "\n",
    "A. Transverse Stiffeners, requirements\n",
    "  1. $\\left(\\dfrac{b}{t}\\right)_{st}\\leq 0.56\\sqrt{\\dfrac{E}{F_{yst}}} \\;\\;\n",
    "    \\scriptsize\\text{ [G2-12]}$ <br><br>\n",
    "         __________________ $\\leq$ __________________\n",
    "\n",
    "       - probably best to use same material as rest of girder\n",
    "       - calculate right half, then can chose thickness and determine necessary width\n",
    "  2. Conservatively, $I_{st} \\geq I_{st1}$\n",
    "       - a. $I_{st}=\\dfrac{b_{st}h_{st}^3}{3}$ __________________\n",
    "\n",
    "       - b. $I_{st1}=\\dfrac{h^4 \\rho_{st}^{1.3}}{40} \\left(\\dfrac{F_{yw}}{E} \\right)^{1.5}\n",
    "        \\;\\; \\scriptsize\\text{ [G2-14]}$ __________________\n",
    "\n",
    "         - $\\rho_{st}$ = larger of $\\mid \\dfrac{F_{yw}}{F_{yst}}$ or $1.0$ __________________\n",
    "\n",
    "B. Connection of Stiffeners to Web & Flange\n",
    "  1. Shear demand required for weld __________________\n",
    "       - $f_{nv} = 0.045h\\sqrt{\\dfrac{F_{yw}^3}{E}}\n",
    "        ;\\; \\scriptsize\\text{ (S/J p.687)}$\n",
    "  2. Pick weld sizing for each side __________________\n",
    "      - can stich weld if excess.\n",
    "\n",
    "---"
   ]
  },
  {
   "cell_type": "markdown",
   "metadata": {
    "colab_type": "text",
    "id": "GD80W3eda3Qz"
   },
   "source": [
    "## 6. Design Connection B/W Flange and Web\n",
    "\n",
    "A. Mechanics of Materials Approach __________________\n",
    "  1. $q= \\dfrac{VQ}{I} = \\dfrac{VA_y}{I}$\n",
    "\n",
    "     - Reference AISC Table J2.4 for minimum weld for plate thickness\n",
    "  2. Pick weld size and find $\\phi r_n$ from table __________________\n",
    "  3. Per AISC E6.2, p. 16.1-38 $\\large\\color{red}\\text{????}$ __________________\n",
    "       - $Spacing (s_{weld}) \\leq 0.75t_w \\sqrt{\\dfrac{E}{F_y}} \\leq 12\"$\n",
    "  4. $L_{weld} \\geq 4t_{weld} \\; \\scriptsize\\text{ [J2.2b]}$ __________________\n",
    "       - round up so length is an reasonable number\n",
    "  5. Calculate Required Strength\n",
    "       - a. $\\phi R_n  = \\text{(qty of welded sides)} \\phi r_n L_{weld}$ __________________\n",
    "\n",
    "       - b. $s_{weld}=\\frac{\\phi R_n}{q} \\;\\; in.\\;c/c$ __________________\n",
    "  6. Summarize weld size, length, and spacing ____________________________________\n",
    "  \n",
    "B. Verify weld meets requirements for full girder length\n",
    "  1. Per foot of Girder\n",
    "       - a. $R_u=q(12\")\\scriptsize\\text{ (Vmax used for q calculation)}$ __________________\n",
    "\n",
    "       - b. $\\phi R_n=\\phi r_n L_{weld} (\\text{qty of sides welded})(12\"/s_{weld})$ __________________\n",
    "\n",
    "       - c. Check $\\Rightarrow \\phi R_n > R_u$ <br><br> __________________ $>$ __________________\n",
    "---"
   ]
  },
  {
   "cell_type": "markdown",
   "metadata": {
    "colab_type": "text",
    "id": "GbZ4uDmoa3T7"
   },
   "source": [
    "## Provide Design Summary\n",
    "\n",
    "Sketch to include:\n",
    "  - identification of each different type of stiffener and location\n",
    "  - dimensioning of stiffeners/spans\n",
    "  \n",
    "Sections to identify the different types of stiffeners and welds"
   ]
  }
 ],
 "metadata": {
  "colab": {
   "collapsed_sections": [],
   "name": "Untitled0.ipynb",
   "provenance": []
  },
  "kernelspec": {
   "display_name": "Python 3",
   "language": "python",
   "name": "python3"
  },
  "language_info": {
   "codemirror_mode": {
    "name": "ipython",
    "version": 3
   },
   "file_extension": ".py",
   "mimetype": "text/x-python",
   "name": "python",
   "nbconvert_exporter": "python",
   "pygments_lexer": "ipython3",
   "version": "3.9.1"
  }
 },
 "nbformat": 4,
 "nbformat_minor": 1
}